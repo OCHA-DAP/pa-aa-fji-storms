{
 "cells": [
  {
   "cell_type": "code",
   "execution_count": 4,
   "id": "417619b2-d768-49e6-9647-a1519df2ad40",
   "metadata": {
    "ExecuteTime": {
     "end_time": "2023-06-23T16:34:07.823825Z",
     "start_time": "2023-06-23T16:34:07.822425Z"
    }
   },
   "outputs": [
    {
     "name": "stdout",
     "output_type": "stream",
     "text": [
      "The jupyter_black extension is already loaded. To reload it, use:\n",
      "  %reload_ext jupyter_black\n"
     ]
    }
   ],
   "source": [
    "%load_ext jupyter_black"
   ]
  },
  {
   "cell_type": "code",
   "execution_count": 6,
   "id": "f7aea9d5",
   "metadata": {},
   "outputs": [
    {
     "name": "stdout",
     "output_type": "stream",
     "text": [
      "hi\n"
     ]
    }
   ],
   "source": [
    "print(\"hi\")"
   ]
  },
  {
   "cell_type": "code",
   "execution_count": 7,
   "id": "ac9bd9cf",
   "metadata": {
    "ExecuteTime": {
     "end_time": "2023-06-23T16:34:23.246734Z",
     "start_time": "2023-06-23T16:34:23.245819Z"
    }
   },
   "outputs": [],
   "source": [
    "a = {1, 2\n",
    "    }"
   ]
  },
  {
   "cell_type": "markdown",
   "source": [],
   "metadata": {
    "collapsed": false
   }
  }
 ],
 "metadata": {
  "kernelspec": {
   "display_name": "venv",
   "language": "python",
   "name": "venv"
  },
  "language_info": {
   "codemirror_mode": {
    "name": "ipython",
    "version": 3
   },
   "file_extension": ".py",
   "mimetype": "text/x-python",
   "name": "python",
   "nbconvert_exporter": "python",
   "pygments_lexer": "ipython3",
   "version": "3.11.4"
  }
 },
 "nbformat": 4,
 "nbformat_minor": 5
}
